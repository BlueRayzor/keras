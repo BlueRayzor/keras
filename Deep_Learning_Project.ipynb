{
  "nbformat": 4,
  "nbformat_minor": 0,
  "metadata": {
    "kernelspec": {
      "display_name": "Python 3",
      "language": "python",
      "name": "python3"
    },
    "language_info": {
      "codemirror_mode": {
        "name": "ipython",
        "version": 3
      },
      "file_extension": ".py",
      "mimetype": "text/x-python",
      "name": "python",
      "nbconvert_exporter": "python",
      "pygments_lexer": "ipython3",
      "version": "3.7.6"
    },
    "colab": {
      "name": "Deep Learning Project.ipynb",
      "provenance": [],
      "toc_visible": true,
      "include_colab_link": true
    },
    "accelerator": "GPU"
  },
  "cells": [
    {
      "cell_type": "markdown",
      "metadata": {
        "id": "view-in-github",
        "colab_type": "text"
      },
      "source": [
        "<a href=\"https://colab.research.google.com/github/BlueRayzor/keras/blob/master/Deep_Learning_Project.ipynb\" target=\"_parent\"><img src=\"https://colab.research.google.com/assets/colab-badge.svg\" alt=\"Open In Colab\"/></a>"
      ]
    },
    {
      "cell_type": "code",
      "metadata": {
        "id": "oD3z50iq9oFw",
        "colab_type": "code",
        "colab": {
          "base_uri": "https://localhost:8080/",
          "height": 35
        },
        "outputId": "11b24fd4-41ab-4cf8-833e-bcc54b718da2"
      },
      "source": [
        "# Import libraries\n",
        "#!pip install opencv-python\n",
        "import os,cv2\n",
        "import numpy as np\n",
        "import matplotlib.pyplot as plt\n",
        "\n",
        "from sklearn.utils import shuffle\n",
        "from sklearn.model_selection import train_test_split\n",
        "\n",
        "from keras import backend as K\n",
        "K.common.image_dim_ordering()\n",
        "#from keras.layers import Merge\n",
        "from keras.utils import np_utils\n",
        "from keras.models import Sequential\n",
        "from keras.layers.core import Dense, Dropout, Activation, Flatten\n",
        "from keras.layers import LSTM\n",
        "from keras.layers.convolutional import Convolution2D, MaxPooling2D\n",
        "from keras.optimizers import SGD,RMSprop,adam\n",
        "import glob"
      ],
      "execution_count": 4,
      "outputs": [
        {
          "output_type": "stream",
          "text": [
            "Using TensorFlow backend.\n"
          ],
          "name": "stderr"
        }
      ]
    },
    {
      "cell_type": "code",
      "metadata": {
        "id": "ap2WOTSJ-pBo",
        "colab_type": "code",
        "colab": {
          "base_uri": "https://localhost:8080/",
          "height": 124
        },
        "outputId": "8e771983-b5a3-4e00-8f82-c98abea4d1d8"
      },
      "source": [
        "from google.colab import drive\n",
        "drive.mount('/content/gdrive')"
      ],
      "execution_count": 6,
      "outputs": [
        {
          "output_type": "stream",
          "text": [
            "Go to this URL in a browser: https://accounts.google.com/o/oauth2/auth?client_id=947318989803-6bn6qk8qdgf4n4g3pfee6491hc0brc4i.apps.googleusercontent.com&redirect_uri=urn%3aietf%3awg%3aoauth%3a2.0%3aoob&response_type=code&scope=email%20https%3a%2f%2fwww.googleapis.com%2fauth%2fdocs.test%20https%3a%2f%2fwww.googleapis.com%2fauth%2fdrive%20https%3a%2f%2fwww.googleapis.com%2fauth%2fdrive.photos.readonly%20https%3a%2f%2fwww.googleapis.com%2fauth%2fpeopleapi.readonly\n",
            "\n",
            "Enter your authorization code:\n",
            "··········\n",
            "Mounted at /content/gdrive\n"
          ],
          "name": "stdout"
        }
      ]
    },
    {
      "cell_type": "markdown",
      "metadata": {
        "id": "mRA8tyPU9oF-",
        "colab_type": "text"
      },
      "source": [
        "# Data Reading and Labeling"
      ]
    },
    {
      "cell_type": "code",
      "metadata": {
        "id": "A6U3x1qw9oGA",
        "colab_type": "code",
        "colab": {
          "base_uri": "https://localhost:8080/",
          "height": 1000
        },
        "outputId": "78e09bd4-4c61-490b-8c61-9e4dac9c5649"
      },
      "source": [
        "PATH = os.getcwd()\n",
        "# Define data path\n",
        "data_path = '/content/gdrive/My Drive/Deep_Learning/Course/Project/OCT_Dataset'\n",
        " \n",
        "data_dir_list = os.listdir(data_path)\n",
        "#print(data_dir_list)\n",
        "\n",
        "img_rows=128\n",
        "img_cols=128\n",
        "num_channel=1\n",
        "num_epoch=2\n",
        "no_images=0\n",
        "\n",
        "for dataset in data_dir_list:\n",
        "    img_list = os.listdir(data_path + '/' + dataset)\n",
        "    no_images = no_images+len(img_list)\n",
        "    \n",
        "\n",
        "# Define the number of classes\n",
        "labels = np.ones((no_images,),dtype='int64')\n",
        "num_classes = 3\n",
        "label_index=0\n",
        "img_data_list=[]\n",
        "img=0\n",
        "\n",
        "for dataset in data_dir_list:\n",
        "    img_list=os.listdir(data_path+'/'+ dataset)\n",
        "    print ('Loaded the images of dataset-'+'{}\\n'.format(dataset))\n",
        "    for img in img_list:\n",
        "        input_img=cv2.imread(data_path + '/'+ dataset + '/'+ img)\n",
        "        input_img=cv2.cvtColor(input_img, cv2.COLOR_BGR2GRAY)\n",
        "        input_img_resize=cv2.resize(input_img,(128,128))\n",
        "        img_data_list.append(input_img_resize)\n",
        "        if dataset[0]==  'A':\n",
        "            labels[label_index]=  0\n",
        "            #print(dataset[0])\n",
        "        if dataset[0] == 'D':\n",
        "            labels[label_index] = 1\n",
        "            #print(dataset[0])\n",
        "        if dataset[0] == 'N':\n",
        "            labels[label_index] = 2\n",
        "        label_index = label_index+1\n",
        "            #print(dataset[0])\n"
      ],
      "execution_count": 7,
      "outputs": [
        {
          "output_type": "stream",
          "text": [
            "Loaded the images of dataset-AMD14\n",
            "\n",
            "Loaded the images of dataset-AMD12\n",
            "\n",
            "Loaded the images of dataset-AMD2\n",
            "\n",
            "Loaded the images of dataset-AMD10\n",
            "\n",
            "Loaded the images of dataset-AMD3\n",
            "\n",
            "Loaded the images of dataset-AMD13\n",
            "\n",
            "Loaded the images of dataset-AMD15\n",
            "\n",
            "Loaded the images of dataset-AMD4\n",
            "\n",
            "Loaded the images of dataset-AMD1\n",
            "\n",
            "Loaded the images of dataset-AMD11\n",
            "\n",
            "Loaded the images of dataset-DME12\n",
            "\n",
            "Loaded the images of dataset-AMD5\n",
            "\n",
            "Loaded the images of dataset-DME11\n",
            "\n",
            "Loaded the images of dataset-DME10\n",
            "\n",
            "Loaded the images of dataset-AMD8\n",
            "\n",
            "Loaded the images of dataset-AMD7\n",
            "\n",
            "Loaded the images of dataset-DME13\n",
            "\n",
            "Loaded the images of dataset-AMD6\n",
            "\n",
            "Loaded the images of dataset-AMD9\n",
            "\n",
            "Loaded the images of dataset-DME1\n",
            "\n",
            "Loaded the images of dataset-DME2\n",
            "\n",
            "Loaded the images of dataset-DME14\n",
            "\n",
            "Loaded the images of dataset-DME15\n",
            "\n",
            "Loaded the images of dataset-DME6\n",
            "\n",
            "Loaded the images of dataset-DME8\n",
            "\n",
            "Loaded the images of dataset-DME5\n",
            "\n",
            "Loaded the images of dataset-DME4\n",
            "\n",
            "Loaded the images of dataset-DME9\n",
            "\n",
            "Loaded the images of dataset-DME3\n",
            "\n",
            "Loaded the images of dataset-DME7\n",
            "\n",
            "Loaded the images of dataset-NORMAL1\n",
            "\n",
            "Loaded the images of dataset-NORMAL11\n",
            "\n",
            "Loaded the images of dataset-NORMAL14\n",
            "\n",
            "Loaded the images of dataset-NORMAL4\n",
            "\n",
            "Loaded the images of dataset-NORMAL10\n",
            "\n",
            "Loaded the images of dataset-NORMAL15\n",
            "\n",
            "Loaded the images of dataset-NORMAL12\n",
            "\n",
            "Loaded the images of dataset-NORMAL2\n",
            "\n",
            "Loaded the images of dataset-NORMAL3\n",
            "\n",
            "Loaded the images of dataset-NORMAL13\n",
            "\n",
            "Loaded the images of dataset-NORMAL8\n",
            "\n",
            "Loaded the images of dataset-NORMAL5\n",
            "\n",
            "Loaded the images of dataset-NORMAL9\n",
            "\n",
            "Loaded the images of dataset-NORMAL7\n",
            "\n",
            "Loaded the images of dataset-NORMAL6\n",
            "\n"
          ],
          "name": "stdout"
        }
      ]
    },
    {
      "cell_type": "markdown",
      "metadata": {
        "id": "z0n8A3Tp9oGM",
        "colab_type": "text"
      },
      "source": [
        "# Preprocessing steps"
      ]
    },
    {
      "cell_type": "code",
      "metadata": {
        "scrolled": false,
        "id": "MzVDQMpJ9oGO",
        "colab_type": "code",
        "colab": {
          "base_uri": "https://localhost:8080/",
          "height": 832
        },
        "outputId": "a0c65917-b37a-4024-ab41-1c568ce27292"
      },
      "source": [
        "img_data = np.array(img_data_list)\n",
        "img_data = img_data.astype('float32')\n",
        "img_data /= 255\n",
        "print (img_data.shape)\n",
        "\n",
        "\n",
        "# Using 'th' for the image_dim_ordering we get accuracy >=0.99 . \n",
        "# Using 'tf' for the dim order I get accuracy >= 0.9 but on more epochs\n",
        "if num_channel==1:\n",
        "    if K.common.image_dim_ordering()=='th':\n",
        "        img_data= np.expand_dims(img_data, axis=1)\n",
        "        #print (img_data.shape)\n",
        "    else:\n",
        "        img_data= np.expand_dims(img_data, axis=3)\n",
        "        #print (img_data.shape)\n",
        "\n",
        "else:\n",
        "    if K.common.image_dim_ordering()=='th':\n",
        "        img_data=np.rollaxis(img_data,3,1)\n",
        "        print (img_data.shape)\n",
        "\n",
        "\n",
        "        labels[0:722] = 0\n",
        "        labels[723:1823] = 1\n",
        "        labels[1824:3231] = 2\n",
        "        \n",
        "        \n",
        "        X_train.shape\n",
        "        \n",
        "\n",
        "        \n",
        "USE_SKLEARN_PREPROCESSING=False\n",
        "\n",
        "if USE_SKLEARN_PREPROCESSING:\n",
        "    # using sklearn for preprocessing\n",
        "    from sklearn import preprocessing\n",
        "\n",
        "    def image_to_feature_vector(image, size=(128, 128)):\n",
        "        # resize the image to a fixed size, then flatten the image into\n",
        "        # a list of raw pixel intensities\n",
        "        return cv2.resize(image, size).flatten()\n",
        "\n",
        "    img_data_list=[]\n",
        "    for dataset in data_dir_list:\n",
        "        img_list=os.listdir(data_path+'/'+ dataset)\n",
        "        print ('Loaded the images of dataset-'+'{}\\n'.format(dataset))\n",
        "        for img in img_list:\n",
        "            input_img=cv2.imread(data_path + '/'+ dataset + '/'+ img )\n",
        "            input_img=cv2.cvtColor(input_img, cv2.COLOR_BGR2GRAY)\n",
        "            input_img_flatten=image_to_feature_vector(input_img,(128,128))\n",
        "            img_data_list.append(input_img_flatten)\n",
        "\n",
        "    img_data = np.array(img_data_list)\n",
        "    img_data = img_data.astype('float32')\n",
        "    #print (img_data.shape)\n",
        "    img_data_scaled = preprocessing.scale(img_data)\n",
        "    #print (img_data_scaled.shape)\n",
        "\n",
        "    if K.common.image_dim_ordering()=='th':\n",
        "        img_data_scaled=img_data_scaled.reshape(img_data.shape[0],num_channel,img_rows,img_cols)\n",
        "        print (img_data_scaled.shape)\n",
        "\n",
        "    else:\n",
        "        img_data_scaled=img_data_scaled.reshape(img_data.shape[0],img_rows,img_cols,num_channel)\n",
        "        print (img_data_scaled.shape)\n",
        "\n",
        "\n",
        "    if K.image_dim_ordering()=='th':\n",
        "        img_data_scaled=img_data_scaled.reshape(img_data.shape[0],num_channel,img_rows,img_cols)\n",
        "        print (img_data_scaled.shape)\n",
        "\n",
        "    else:\n",
        "        img_data_scaled=img_data_scaled.reshape(img_data.shape[0],img_rows,img_cols,num_channel)\n",
        "        print (img_data_scaled.shape)\n",
        "\n",
        "if USE_SKLEARN_PREPROCESSING:\n",
        "    img_data=img_data_scaled\n",
        "    \n",
        "    #%%\n",
        "labels[0:1000]\n",
        "#%%"
      ],
      "execution_count": 8,
      "outputs": [
        {
          "output_type": "stream",
          "text": [
            "(3231, 128, 128)\n"
          ],
          "name": "stdout"
        },
        {
          "output_type": "execute_result",
          "data": {
            "text/plain": [
              "array([0, 0, 0, 0, 0, 0, 0, 0, 0, 0, 0, 0, 0, 0, 0, 0, 0, 0, 0, 0, 0, 0,\n",
              "       0, 0, 0, 0, 0, 0, 0, 0, 0, 0, 0, 0, 0, 0, 0, 0, 0, 0, 0, 0, 0, 0,\n",
              "       0, 0, 0, 0, 0, 0, 0, 0, 0, 0, 0, 0, 0, 0, 0, 0, 0, 0, 0, 0, 0, 0,\n",
              "       0, 0, 0, 0, 0, 0, 0, 0, 0, 0, 0, 0, 0, 0, 0, 0, 0, 0, 0, 0, 0, 0,\n",
              "       0, 0, 0, 0, 0, 0, 0, 0, 0, 0, 0, 0, 0, 0, 0, 0, 0, 0, 0, 0, 0, 0,\n",
              "       0, 0, 0, 0, 0, 0, 0, 0, 0, 0, 0, 0, 0, 0, 0, 0, 0, 0, 0, 0, 0, 0,\n",
              "       0, 0, 0, 0, 0, 0, 0, 0, 0, 0, 0, 0, 0, 0, 0, 0, 0, 0, 0, 0, 0, 0,\n",
              "       0, 0, 0, 0, 0, 0, 0, 0, 0, 0, 0, 0, 0, 0, 0, 0, 0, 0, 0, 0, 0, 0,\n",
              "       0, 0, 0, 0, 0, 0, 0, 0, 0, 0, 0, 0, 0, 0, 0, 0, 0, 0, 0, 0, 0, 0,\n",
              "       0, 0, 0, 0, 0, 0, 0, 0, 0, 0, 0, 0, 0, 0, 0, 0, 0, 0, 0, 0, 0, 0,\n",
              "       0, 0, 0, 0, 0, 0, 0, 0, 0, 0, 0, 0, 0, 0, 0, 0, 0, 0, 0, 0, 0, 0,\n",
              "       0, 0, 0, 0, 0, 0, 0, 0, 0, 0, 0, 0, 0, 0, 0, 0, 0, 0, 0, 0, 0, 0,\n",
              "       0, 0, 0, 0, 0, 0, 0, 0, 0, 0, 0, 0, 0, 0, 0, 0, 0, 0, 0, 0, 0, 0,\n",
              "       0, 0, 0, 0, 0, 0, 0, 0, 0, 0, 0, 0, 0, 0, 0, 0, 0, 0, 0, 0, 0, 0,\n",
              "       0, 0, 0, 0, 0, 0, 0, 0, 0, 0, 0, 0, 0, 0, 0, 0, 0, 0, 0, 0, 0, 0,\n",
              "       0, 0, 0, 0, 0, 0, 0, 0, 0, 0, 0, 0, 0, 0, 0, 0, 0, 0, 0, 0, 0, 0,\n",
              "       0, 0, 0, 0, 0, 0, 0, 0, 0, 0, 0, 0, 0, 0, 0, 0, 0, 0, 0, 0, 0, 0,\n",
              "       0, 0, 0, 0, 0, 0, 0, 0, 0, 0, 0, 0, 0, 0, 0, 0, 0, 0, 0, 0, 0, 0,\n",
              "       0, 0, 0, 0, 0, 0, 0, 0, 0, 0, 0, 0, 0, 0, 0, 0, 0, 0, 0, 0, 0, 0,\n",
              "       0, 0, 0, 0, 0, 0, 0, 0, 0, 0, 0, 0, 0, 0, 0, 0, 0, 0, 0, 0, 0, 0,\n",
              "       0, 0, 0, 0, 0, 0, 0, 0, 0, 0, 0, 0, 0, 0, 0, 0, 0, 0, 0, 0, 0, 0,\n",
              "       0, 0, 0, 0, 1, 1, 1, 1, 1, 1, 1, 1, 1, 1, 1, 1, 1, 1, 1, 1, 1, 1,\n",
              "       1, 1, 1, 1, 1, 1, 1, 1, 1, 1, 1, 1, 1, 1, 1, 1, 1, 1, 1, 1, 1, 1,\n",
              "       1, 1, 1, 1, 1, 1, 1, 1, 1, 1, 1, 1, 1, 1, 1, 1, 1, 1, 1, 1, 1, 0,\n",
              "       0, 0, 0, 0, 0, 0, 0, 0, 0, 0, 0, 0, 0, 0, 0, 0, 0, 0, 0, 0, 0, 0,\n",
              "       0, 0, 0, 0, 0, 0, 0, 0, 0, 0, 0, 0, 0, 0, 1, 1, 1, 1, 1, 1, 1, 1,\n",
              "       1, 1, 1, 1, 1, 1, 1, 1, 1, 1, 1, 1, 1, 1, 1, 1, 1, 1, 1, 1, 1, 1,\n",
              "       1, 1, 1, 1, 1, 1, 1, 1, 1, 1, 1, 1, 1, 1, 1, 1, 1, 1, 1, 1, 1, 1,\n",
              "       1, 1, 1, 1, 1, 1, 1, 1, 1, 1, 1, 1, 1, 1, 1, 1, 1, 1, 1, 1, 1, 1,\n",
              "       1, 1, 1, 1, 1, 1, 1, 1, 1, 1, 1, 1, 1, 1, 1, 1, 1, 1, 0, 0, 0, 0,\n",
              "       0, 0, 0, 0, 0, 0, 0, 0, 0, 0, 0, 0, 0, 0, 0, 0, 0, 0, 0, 0, 0, 0,\n",
              "       0, 0, 0, 0, 0, 0, 0, 0, 0, 0, 0, 0, 0, 0, 0, 0, 0, 0, 0, 0, 0, 0,\n",
              "       0, 0, 0, 0, 0, 0, 0, 0, 0, 0, 0, 0, 0, 0, 0, 0, 0, 0, 0, 0, 0, 0,\n",
              "       0, 0, 0, 0, 0, 0, 0, 0, 0, 0, 0, 0, 0, 0, 0, 0, 0, 0, 0, 0, 0, 0,\n",
              "       0, 0, 0, 0, 0, 0, 0, 0, 0, 0, 0, 0, 0, 0, 0, 0, 0, 0, 1, 1, 1, 1,\n",
              "       1, 1, 1, 1, 1, 1, 1, 1, 1, 1, 1, 1, 1, 1, 1, 1, 1, 1, 1, 1, 1, 1,\n",
              "       1, 1, 1, 1, 1, 1, 1, 1, 1, 1, 1, 1, 1, 1, 1, 1, 1, 1, 1, 1, 1, 1,\n",
              "       1, 1, 1, 1, 1, 1, 1, 1, 1, 1, 1, 1, 1, 0, 0, 0, 0, 0, 0, 0, 0, 0,\n",
              "       0, 0, 0, 0, 0, 0, 0, 0, 0, 0, 0, 0, 0, 0, 0, 0, 0, 0, 0, 0, 0, 0,\n",
              "       0, 0, 0, 0, 0, 0, 0, 0, 0, 0, 0, 0, 0, 0, 0, 0, 0, 0, 0, 0, 0, 0,\n",
              "       0, 0, 0, 0, 0, 0, 0, 0, 0, 0, 0, 0, 0, 0, 0, 0, 0, 0, 0, 0, 0, 0,\n",
              "       0, 0, 0, 0, 0, 0, 0, 0, 0, 0, 0, 0, 0, 0, 0, 0, 0, 0, 0, 0, 0, 0,\n",
              "       0, 0, 0, 0, 0, 0, 0, 0, 0, 0, 0, 0, 0, 1, 1, 1, 1, 1, 1, 1, 1, 1,\n",
              "       1, 1, 1, 1, 1, 1, 1, 1, 1, 1, 1, 1, 1, 1, 1, 1, 1, 1, 1, 1, 1, 1,\n",
              "       1, 1, 1, 1, 1, 1, 1, 1, 1, 1, 1, 1, 1, 1, 1, 1, 1, 1, 1, 1, 1, 1,\n",
              "       1, 1, 1, 1, 1, 1, 1, 1, 1, 1])"
            ]
          },
          "metadata": {
            "tags": []
          },
          "execution_count": 8
        }
      ]
    },
    {
      "cell_type": "code",
      "metadata": {
        "id": "UjqCL9IB9oGU",
        "colab_type": "code",
        "colab": {}
      },
      "source": [
        "# Assigning Labels\n",
        "\n",
        "# Define the number of classes\n",
        "num_classes = 3\n",
        "\n",
        "names = ['AMD','DME','NORMAL']\n",
        "\n",
        "# convert class labels to on-hot encoding\n",
        "Y = np_utils.to_categorical(labels, num_classes)\n",
        "\n",
        "#Shuffle the dataset with random state=2\n",
        "X,y = shuffle(img_data,Y, random_state=2)\n",
        "# Split the dataset with 20% testing data\n",
        "X_train, X_test, y_train, y_test =  train_test_split(X, y, test_size=0.20)"
      ],
      "execution_count": 9,
      "outputs": []
    },
    {
      "cell_type": "markdown",
      "metadata": {
        "id": "Hl48bpZK9oGX",
        "colab_type": "text"
      },
      "source": [
        "# Define the model "
      ]
    },
    {
      "cell_type": "code",
      "metadata": {
        "id": "VfYoSnSz9oGY",
        "colab_type": "code",
        "colab": {
          "base_uri": "https://localhost:8080/",
          "height": 800
        },
        "outputId": "7dd0f9b8-ecd8-4e67-f47a-4d6b950ecf35"
      },
      "source": [
        "# Defining the model \n",
        "# Feel free to use CNNs/Dense Networks\n",
        "model = Sequential()\n",
        "\n",
        "model.add(Convolution2D(256,nb_row=3, nb_col=3, activation='relu', input_shape=(128,128,1)))\n",
        "model.add(MaxPooling2D(pool_size=(2,2), strides=(2,2)))\n",
        "\n",
        "model.add(Convolution2D(128, nb_row=3, nb_col=3, activation='relu'))\n",
        "model.add(MaxPooling2D(pool_size=(2,2), strides=(2,2)))\n",
        "\n",
        "model.add(Convolution2D(64,nb_row=3, nb_col=3, activation='relu'))\n",
        "model.add(MaxPooling2D(pool_size=(2,2), strides=(2,2)))\n",
        "\n",
        "model.add(Convolution2D(32,nb_row=3, nb_col=3, activation='relu'))\n",
        "model.add(MaxPooling2D(pool_size=(2,2), strides=(2,2)))\n",
        "\n",
        "\n",
        "model.add(Flatten())\n",
        "model.add(Dense(256, activation='relu'))\n",
        "model.add(Dense(128, activation='relu'))\n",
        "model.add(Dense(64, activation='relu'))\n",
        "model.add(Dense(32, activation='relu'))\n",
        "model.add(Dense(3, activation='softmax'))\n",
        "\n",
        "learning_rate = 0.001\n",
        "opt = adam(lr=learning_rate)\n",
        "model.compile(optimizer=opt,\n",
        "              loss='categorical_crossentropy',\n",
        "              metrics=['accuracy'])\n",
        "\n",
        "# Viewing model_configuration\n",
        "model.summary()\n",
        "#model.get_config()\n",
        "#model.layers[0].get_config()\n",
        "#model.layers[0].input_shape\n",
        "#model.layers[0].output_shape\n",
        "#model.layers[0].output\n",
        "#model.layers[0].get_weights()\n",
        "\n"
      ],
      "execution_count": 10,
      "outputs": [
        {
          "output_type": "stream",
          "text": [
            "/usr/local/lib/python3.6/dist-packages/ipykernel_launcher.py:5: UserWarning: Update your `Conv2D` call to the Keras 2 API: `Conv2D(256, (3, 3), activation=\"relu\", input_shape=(128, 128,...)`\n",
            "  \"\"\"\n"
          ],
          "name": "stderr"
        },
        {
          "output_type": "stream",
          "text": [
            "Model: \"sequential_1\"\n",
            "_________________________________________________________________\n",
            "Layer (type)                 Output Shape              Param #   \n",
            "=================================================================\n",
            "conv2d_1 (Conv2D)            (None, 126, 126, 256)     2560      \n",
            "_________________________________________________________________\n",
            "max_pooling2d_1 (MaxPooling2 (None, 63, 63, 256)       0         \n",
            "_________________________________________________________________\n",
            "conv2d_2 (Conv2D)            (None, 61, 61, 128)       295040    \n",
            "_________________________________________________________________\n",
            "max_pooling2d_2 (MaxPooling2 (None, 30, 30, 128)       0         \n",
            "_________________________________________________________________\n",
            "conv2d_3 (Conv2D)            (None, 28, 28, 64)        73792     \n",
            "_________________________________________________________________\n",
            "max_pooling2d_3 (MaxPooling2 (None, 14, 14, 64)        0         \n",
            "_________________________________________________________________\n",
            "conv2d_4 (Conv2D)            (None, 12, 12, 32)        18464     \n",
            "_________________________________________________________________\n",
            "max_pooling2d_4 (MaxPooling2 (None, 6, 6, 32)          0         \n",
            "_________________________________________________________________\n",
            "flatten_1 (Flatten)          (None, 1152)              0         \n",
            "_________________________________________________________________\n",
            "dense_1 (Dense)              (None, 256)               295168    \n",
            "_________________________________________________________________\n",
            "dense_2 (Dense)              (None, 128)               32896     \n",
            "_________________________________________________________________\n",
            "dense_3 (Dense)              (None, 64)                8256      \n",
            "_________________________________________________________________\n",
            "dense_4 (Dense)              (None, 32)                2080      \n",
            "_________________________________________________________________\n",
            "dense_5 (Dense)              (None, 3)                 99        \n",
            "=================================================================\n",
            "Total params: 728,355\n",
            "Trainable params: 728,355\n",
            "Non-trainable params: 0\n",
            "_________________________________________________________________\n"
          ],
          "name": "stdout"
        },
        {
          "output_type": "stream",
          "text": [
            "/usr/local/lib/python3.6/dist-packages/ipykernel_launcher.py:8: UserWarning: Update your `Conv2D` call to the Keras 2 API: `Conv2D(128, (3, 3), activation=\"relu\")`\n",
            "  \n",
            "/usr/local/lib/python3.6/dist-packages/ipykernel_launcher.py:11: UserWarning: Update your `Conv2D` call to the Keras 2 API: `Conv2D(64, (3, 3), activation=\"relu\")`\n",
            "  # This is added back by InteractiveShellApp.init_path()\n",
            "/usr/local/lib/python3.6/dist-packages/ipykernel_launcher.py:14: UserWarning: Update your `Conv2D` call to the Keras 2 API: `Conv2D(32, (3, 3), activation=\"relu\")`\n",
            "  \n"
          ],
          "name": "stderr"
        }
      ]
    },
    {
      "cell_type": "code",
      "metadata": {
        "id": "GsQM8ebQ9oGb",
        "colab_type": "code",
        "colab": {
          "base_uri": "https://localhost:8080/",
          "height": 800
        },
        "outputId": "9902d8cc-7370-4c04-eabe-53aed9cefcb8"
      },
      "source": [
        "# Train and fit wit appropiate batch size, epochs, verbose = 1 and validation set\n",
        "hist = model.fit(X_train, y_train, batch_size = 8, nb_epoch=20, verbose=1)\n",
        "\n",
        "# model saving \n",
        "from keras.models import model_from_json\n",
        "from keras.models import load_model\n",
        "\n",
        "# serialize model to JSON\n",
        "model_json = model.to_json()\n",
        "with open(\"model.json\", \"w\") as json_file:\n",
        "    json_file.write(model_json)\n",
        "# serialize weights to HDF5\n",
        "model.save_weights(\"model.h5\")\n",
        "print(\"Saved model to disk\")\n",
        "\n",
        "# load json and create model\n",
        "json_file = open('model.json', 'r')\n",
        "loaded_model_json = json_file.read()\n",
        "json_file.close()\n",
        "loaded_model = model_from_json(loaded_model_json)\n",
        "# load weights into new model\n",
        "loaded_model.load_weights(\"model.h5\")\n",
        "print(\"Loaded model from disk\")\n",
        "\n",
        "# Save the model in hdf5 file\n",
        "model.save('/content/gdrive/My Drive/Deep_Learning/Course/Project/saved_models/Oct_model.h5')\n",
        "\n",
        "# Load the saved model\n",
        "loaded_model= load_model('/content/gdrive/My Drive/Deep_Learning/Course/Project/saved_models/Oct_model.h5')"
      ],
      "execution_count": 11,
      "outputs": [
        {
          "output_type": "stream",
          "text": [
            "/usr/local/lib/python3.6/dist-packages/ipykernel_launcher.py:2: UserWarning: The `nb_epoch` argument in `fit` has been renamed `epochs`.\n",
            "  \n"
          ],
          "name": "stderr"
        },
        {
          "output_type": "stream",
          "text": [
            "Epoch 1/20\n",
            "2584/2584 [==============================] - 21s 8ms/step - loss: 0.5634 - accuracy: 0.7457\n",
            "Epoch 2/20\n",
            "2584/2584 [==============================] - 15s 6ms/step - loss: 0.1517 - accuracy: 0.9454\n",
            "Epoch 3/20\n",
            "2584/2584 [==============================] - 15s 6ms/step - loss: 0.0630 - accuracy: 0.9764\n",
            "Epoch 4/20\n",
            "2584/2584 [==============================] - 15s 6ms/step - loss: 0.1023 - accuracy: 0.9636\n",
            "Epoch 5/20\n",
            "2584/2584 [==============================] - 15s 6ms/step - loss: 0.0518 - accuracy: 0.9803\n",
            "Epoch 6/20\n",
            "2584/2584 [==============================] - 15s 6ms/step - loss: 0.0113 - accuracy: 0.9954\n",
            "Epoch 7/20\n",
            "2584/2584 [==============================] - 15s 6ms/step - loss: 0.0420 - accuracy: 0.9865\n",
            "Epoch 8/20\n",
            "2584/2584 [==============================] - 15s 6ms/step - loss: 0.0453 - accuracy: 0.9876\n",
            "Epoch 9/20\n",
            "2584/2584 [==============================] - 15s 6ms/step - loss: 0.0204 - accuracy: 0.9946\n",
            "Epoch 10/20\n",
            "2584/2584 [==============================] - 15s 6ms/step - loss: 0.0388 - accuracy: 0.9857\n",
            "Epoch 11/20\n",
            "2584/2584 [==============================] - 15s 6ms/step - loss: 2.0980e-04 - accuracy: 1.0000\n",
            "Epoch 12/20\n",
            "2584/2584 [==============================] - 15s 6ms/step - loss: 4.7490e-05 - accuracy: 1.0000\n",
            "Epoch 13/20\n",
            "2584/2584 [==============================] - 15s 6ms/step - loss: 3.0280e-05 - accuracy: 1.0000\n",
            "Epoch 14/20\n",
            "2584/2584 [==============================] - 15s 6ms/step - loss: 2.1271e-05 - accuracy: 1.0000\n",
            "Epoch 15/20\n",
            "2584/2584 [==============================] - 15s 6ms/step - loss: 1.5634e-05 - accuracy: 1.0000\n",
            "Epoch 16/20\n",
            "2584/2584 [==============================] - 15s 6ms/step - loss: 1.1741e-05 - accuracy: 1.0000\n",
            "Epoch 17/20\n",
            "2584/2584 [==============================] - 15s 6ms/step - loss: 9.0268e-06 - accuracy: 1.0000\n",
            "Epoch 18/20\n",
            "2584/2584 [==============================] - 15s 6ms/step - loss: 7.0302e-06 - accuracy: 1.0000\n",
            "Epoch 19/20\n",
            "2584/2584 [==============================] - 15s 6ms/step - loss: 5.5327e-06 - accuracy: 1.0000\n",
            "Epoch 20/20\n",
            "2584/2584 [==============================] - 15s 6ms/step - loss: 4.4081e-06 - accuracy: 1.0000\n",
            "Saved model to disk\n",
            "Loaded model from disk\n"
          ],
          "name": "stdout"
        }
      ]
    },
    {
      "cell_type": "code",
      "metadata": {
        "id": "4m4i34pV9oGe",
        "colab_type": "code",
        "colab": {
          "base_uri": "https://localhost:8080/",
          "height": 69
        },
        "outputId": "37a2fd8c-c437-4061-f644-83d2c761e545"
      },
      "source": [
        "# Evaluate the model w.r.t Test Loss and Test Accuracy\n",
        "score = model.evaluate(X_test,y_test)\n",
        "print('Test Loss:', score[0])\n",
        "print('Test accuracy:', score[1])"
      ],
      "execution_count": 12,
      "outputs": [
        {
          "output_type": "stream",
          "text": [
            "647/647 [==============================] - 2s 3ms/step\n",
            "Test Loss: 2.1549673768798332e-05\n",
            "Test accuracy: 1.0\n"
          ],
          "name": "stdout"
        }
      ]
    },
    {
      "cell_type": "code",
      "metadata": {
        "id": "wX8dtMTp9oGh",
        "colab_type": "code",
        "colab": {
          "base_uri": "https://localhost:8080/",
          "height": 814
        },
        "outputId": "dec8fe24-693e-4962-e2e2-5e4d75e415c9"
      },
      "source": [
        "# Predict model on Test Data\n",
        "\n",
        "Y_pred = model.predict(X_test)\n",
        "print(Y_pred)\n",
        "\n",
        "# Printing the confusion matrix\n",
        "from sklearn.metrics import classification_report,confusion_matrix\n",
        "import itertools\n",
        "\n",
        "# Print the classes of the Prediction\n",
        "y_pred = model.predict_classes(X_test)\n",
        "print(y_pred)\n",
        "\n",
        "target_names = ['AMD', 'DME', 'Normal']\n",
        "                                        \n",
        "# Plotting the confusion matrix\n",
        "def plot_confusion_matrix(cm, classes,\n",
        "                          normalize=False,\n",
        "                          title='Confusion matrix',\n",
        "                          cmap=plt.cm.Blues):\n",
        "    \"\"\"\n",
        "    This function prints and plots the confusion matrix.\n",
        "    Normalization can be applied by setting `normalize=True`.\n",
        "    \"\"\"\n",
        "    plt.imshow(cm, interpolation='nearest', cmap=cmap)\n",
        "    plt.title(title)\n",
        "    plt.colorbar()\n",
        "    tick_marks = np.arange(len(classes))\n",
        "    plt.xticks(tick_marks, classes, rotation=45)\n",
        "    plt.yticks(tick_marks, classes)\n",
        "\n",
        "    if normalize:\n",
        "        cm = cm.astype('float') / cm.sum(axis=1)[:, np.newaxis]\n",
        "        print(\"Normalized confusion matrix\")\n",
        "    else:\n",
        "        print('Confusion matrix, without normalization')\n",
        "\n",
        "    print(cm)\n",
        "\n",
        "    thresh = cm.max() / 2.\n",
        "    for i, j in itertools.product(range(cm.shape[0]), range(cm.shape[1])):\n",
        "        plt.text(j, i, cm[i, j],\n",
        "                 horizontalalignment=\"center\",\n",
        "                 color=\"white\" if cm[i, j] > thresh else \"black\")\n",
        "\n",
        "    plt.tight_layout()\n",
        "    plt.ylabel('True label')\n",
        "    plt.xlabel('Predicted label')\n",
        "\n",
        "#Computation  confusion matrix\n",
        "cnf_matrix = (confusion_matrix(np.argmax(y_test,axis=1), y_pred))\n",
        "\n",
        "np.set_printoptions(precision=3)\n",
        "\n",
        "plt.figure()\n",
        "\n",
        "# Plotting non-normalized confusion matrix\n",
        "plot_confusion_matrix(cnf_matrix, classes=target_names,\n",
        "                      title='Confusion matrix')\n",
        "plt.show()"
      ],
      "execution_count": 13,
      "outputs": [
        {
          "output_type": "stream",
          "text": [
            "[[3.0855734e-19 1.0000000e+00 1.1370117e-21]\n",
            " [6.7806103e-21 1.0000000e+00 8.5730831e-24]\n",
            " [4.4346526e-21 1.6590982e-17 1.0000000e+00]\n",
            " ...\n",
            " [8.0356415e-08 9.9999988e-01 6.2162421e-11]\n",
            " [5.6037019e-10 1.3019333e-09 1.0000000e+00]\n",
            " [3.8303654e-07 4.8803746e-11 9.9999964e-01]]\n",
            "[1 1 2 1 2 1 0 0 0 1 0 2 1 2 2 2 1 2 0 2 0 2 2 2 0 2 1 0 1 2 2 2 0 2 2 0 0\n",
            " 0 0 0 0 2 1 2 0 2 0 0 0 2 1 1 0 1 1 1 0 1 2 2 2 1 0 2 1 0 0 1 1 1 2 0 0 2\n",
            " 2 1 2 2 1 2 0 2 2 2 0 0 2 0 1 1 2 2 2 2 0 2 1 1 2 1 2 2 0 2 1 1 2 2 0 0 2\n",
            " 1 2 1 2 2 2 1 1 2 2 1 1 2 0 2 2 0 1 2 0 1 2 2 2 2 0 2 2 1 2 0 1 1 1 1 0 2\n",
            " 2 1 0 2 1 1 0 1 1 2 2 2 1 1 1 1 2 2 1 0 1 0 1 1 1 2 1 0 1 0 1 0 2 1 1 2 2\n",
            " 1 2 1 1 1 1 0 2 2 1 2 2 1 1 1 2 2 0 2 1 1 1 2 2 0 0 0 1 2 0 1 2 1 0 2 2 1\n",
            " 2 2 2 1 2 1 1 0 1 2 2 2 2 0 2 1 1 0 2 0 2 1 1 1 1 2 2 2 1 2 2 2 1 2 2 2 1\n",
            " 1 2 2 0 1 2 2 2 2 1 2 1 1 2 0 2 1 2 0 1 0 1 0 0 2 1 0 0 1 2 2 0 0 2 1 0 0\n",
            " 0 2 1 1 1 2 1 1 2 1 2 2 1 2 2 2 2 2 2 1 1 2 2 1 2 1 0 0 2 2 2 1 2 2 1 1 2\n",
            " 0 0 2 2 2 1 2 2 2 2 1 0 2 2 2 2 1 0 1 1 2 2 2 1 1 2 1 2 2 1 2 1 1 2 1 2 2\n",
            " 1 0 1 2 2 2 2 0 2 1 1 1 2 1 0 2 2 1 2 2 2 0 0 0 0 2 2 1 0 2 1 0 1 1 2 1 2\n",
            " 2 2 1 0 2 2 2 1 2 1 0 2 1 2 1 1 2 1 2 1 0 1 0 2 2 2 1 2 1 1 0 1 2 2 1 2 2\n",
            " 2 2 2 2 1 0 1 1 1 0 0 1 0 2 1 2 1 0 1 2 2 2 0 1 2 2 1 2 1 2 1 2 0 1 2 1 1\n",
            " 1 1 2 0 2 2 2 2 2 2 2 0 2 2 1 0 2 1 0 1 1 2 1 0 1 1 1 0 1 2 0 1 1 1 1 2 1\n",
            " 2 0 2 0 0 2 2 0 2 0 2 2 0 2 2 2 1 1 1 1 1 2 0 2 2 1 2 2 0 2 1 1 1 1 1 2 1\n",
            " 2 1 1 0 2 2 0 1 0 1 1 1 2 1 2 2 1 2 2 1 0 0 0 2 2 2 2 2 1 2 1 0 0 1 2 2 2\n",
            " 0 2 2 2 0 0 2 1 2 1 1 1 2 2 1 0 0 0 1 2 0 1 2 1 1 2 2 2 2 2 2 1 1 0 2 1 0\n",
            " 1 1 1 0 2 2 0 2 0 2 0 2 1 2 2 1 2 2]\n",
            "Confusion matrix, without normalization\n",
            "[[134   0   0]\n",
            " [  0 226   0]\n",
            " [  0   0 287]]\n"
          ],
          "name": "stdout"
        },
        {
          "output_type": "display_data",
          "data": {
            "image/png": "[encoded data removed]",
            "text/plain": [
              "<Figure size 432x288 with 2 Axes>"
            ]
          },
          "metadata": {
            "tags": [],
            "needs_background": "light"
          }
        }
      ]
    }
  ]
}